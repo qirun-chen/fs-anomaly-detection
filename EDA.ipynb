{
 "cells": [
  {
   "cell_type": "code",
   "execution_count": 1,
   "id": "8de38934-ef02-4834-b24f-c7ffb4cb2c1f",
   "metadata": {},
   "outputs": [],
   "source": [
    "import pandas as pd\n",
    "import numpy as np\n",
    "from sklearn.metrics import precision_score, recall_score"
   ]
  },
  {
   "cell_type": "code",
   "execution_count": 2,
   "id": "cf4026f3-2d42-4273-92dc-db27a26437b2",
   "metadata": {},
   "outputs": [],
   "source": [
    "df = pd.read_csv(\"/home/jupyter/PS_20174392719_1491204439457_log.csv.zip\")"
   ]
  },
  {
   "cell_type": "code",
   "execution_count": 3,
   "id": "4b9f61d4-c10e-4e8a-80d6-bcf01b588087",
   "metadata": {},
   "outputs": [],
   "source": [
    "def custom_f_score(y_true, y_pred):\n",
    "    beta = 1.25\n",
    "    precision = precision_score(y_true, y_pred)\n",
    "    recall = recall_score(y_true, y_pred)\n",
    "    print('precision: {} \\t recall: {}'.format(precision, recall))\n",
    "    if float(precision + recall) != 0:\n",
    "        return (1 + beta**2) * (precision * recall) / float(beta**2 * precision + recall)\n",
    "    else:\n",
    "        return 0"
   ]
  },
  {
   "cell_type": "code",
   "execution_count": 4,
   "id": "3a513036-532f-449c-a7ad-eefdb74ef004",
   "metadata": {},
   "outputs": [],
   "source": [
    "def evaluate_by_transaction_type(df, trans_type):\n",
    "    sample_df = df[df['type'] == trans_type].copy()\n",
    "    \n",
    "    empty_money_fraud_condition = (sample_df['amount'] == sample_df['oldbalanceOrg'])\n",
    "    overlimit_fraud_condition = (sample_df['type'] == \"TRANSFER\") & (sample_df['amount'] == 10000000) & (sample_df['oldbalanceOrg'] >= 10000000)\n",
    "    \n",
    "    sample_df.loc[(empty_money_fraud_condition | overlimit_fraud_condition), 'prediction'] = 1\n",
    "    sample_df['prediction'] = sample_df['prediction'].fillna(0)\n",
    "    \n",
    "    f_score = custom_f_score(sample_df['isFraud'], sample_df['prediction'])\n",
    "    \n",
    "    return f_score"
   ]
  },
  {
   "cell_type": "code",
   "execution_count": 5,
   "id": "8214e581-59c5-4a2b-acb9-275d37625ca4",
   "metadata": {},
   "outputs": [
    {
     "name": "stdout",
     "output_type": "stream",
     "text": [
      "precision: 1.0 \t recall: 0.9978032706858677\n"
     ]
    },
    {
     "data": {
      "text/plain": [
       "0.9986593816472326"
      ]
     },
     "execution_count": 5,
     "metadata": {},
     "output_type": "execute_result"
    }
   ],
   "source": [
    "evaluate_by_transaction_type(df, \"TRANSFER\")"
   ]
  },
  {
   "cell_type": "code",
   "execution_count": 6,
   "id": "e2630a55-e58d-4df3-96ef-54af6a784fe7",
   "metadata": {},
   "outputs": [
    {
     "name": "stdout",
     "output_type": "stream",
     "text": [
      "precision: 1.0 \t recall: 0.9939261418853256\n"
     ]
    },
    {
     "data": {
      "text/plain": [
       "0.9962876285965454"
      ]
     },
     "execution_count": 6,
     "metadata": {},
     "output_type": "execute_result"
    }
   ],
   "source": [
    "evaluate_by_transaction_type(df, \"CASH_OUT\")"
   ]
  },
  {
   "cell_type": "code",
   "execution_count": null,
   "id": "d0909796-770a-4d6b-a5d6-8a8257ee28e8",
   "metadata": {},
   "outputs": [],
   "source": []
  },
  {
   "cell_type": "code",
   "execution_count": 7,
   "id": "c58b5c83-b726-4465-ac8e-cd180c4ec763",
   "metadata": {},
   "outputs": [],
   "source": [
    "empty_money_fraud_condition = (df['amount'] == df['oldbalanceOrg'])\n",
    "overlimit_fraud_condition = (df['type'] == \"TRANSFER\") & (df['amount'] == 10000000) & (df['oldbalanceOrg'] >= 10000000)"
   ]
  },
  {
   "cell_type": "code",
   "execution_count": 8,
   "id": "47c02146-ab62-4df1-98a1-716a32b882c9",
   "metadata": {},
   "outputs": [
    {
     "name": "stdout",
     "output_type": "stream",
     "text": [
      "Number of fraud trans captured:  8179\n",
      "Total number of fraud trans in data:  8213\n",
      "Number of fraud trans escaped:  34\n",
      "Coverage:  0.9958602215999026\n"
     ]
    }
   ],
   "source": [
    "print(\"Number of fraud trans captured: \", df[(empty_money_fraud_condition | overlimit_fraud_condition)].shape[0])\n",
    "print(\"Total number of fraud trans in data: \", df[df['isFraud'] == 1]['isFraud'].shape[0])\n",
    "print(\"Number of fraud trans escaped: \", df[df['isFraud'] == 1]['isFraud'].shape[0] - df[(empty_money_fraud_condition | overlimit_fraud_condition)].shape[0])\n",
    "print(\"Coverage: \", df[(empty_money_fraud_condition | overlimit_fraud_condition)].shape[0] / df[df['isFraud'] == 1]['isFraud'].shape[0])"
   ]
  },
  {
   "cell_type": "code",
   "execution_count": null,
   "id": "61069ecf-8b35-40c3-b163-c039b0145b92",
   "metadata": {},
   "outputs": [],
   "source": []
  }
 ],
 "metadata": {
  "kernelspec": {
   "display_name": "Python 3 (ipykernel)",
   "language": "python",
   "name": "python3"
  },
  "language_info": {
   "codemirror_mode": {
    "name": "ipython",
    "version": 3
   },
   "file_extension": ".py",
   "mimetype": "text/x-python",
   "name": "python",
   "nbconvert_exporter": "python",
   "pygments_lexer": "ipython3",
   "version": "3.7.12"
  }
 },
 "nbformat": 4,
 "nbformat_minor": 5
}
